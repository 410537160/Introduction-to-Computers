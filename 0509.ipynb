{
  "nbformat": 4,
  "nbformat_minor": 0,
  "metadata": {
    "colab": {
      "name": "0509.ipynb",
      "provenance": [],
      "authorship_tag": "ABX9TyOMPIjui/nkfK0ZDegTFSAf",
      "include_colab_link": true
    },
    "kernelspec": {
      "name": "python3",
      "display_name": "Python 3"
    },
    "language_info": {
      "name": "python"
    }
  },
  "cells": [
    {
      "cell_type": "markdown",
      "metadata": {
        "id": "view-in-github",
        "colab_type": "text"
      },
      "source": [
        "<a href=\"https://colab.research.google.com/github/410537160/Introduction-to-Computers/blob/main/0509.ipynb\" target=\"_parent\"><img src=\"https://colab.research.google.com/assets/colab-badge.svg\" alt=\"Open In Colab\"/></a>"
      ]
    },
    {
      "cell_type": "code",
      "execution_count": 1,
      "metadata": {
        "colab": {
          "base_uri": "https://localhost:8080/"
        },
        "id": "WSnyWnYM9c1k",
        "outputId": "178d24e7-69e1-4951-e33e-8fc9d5b830de"
      },
      "outputs": [
        {
          "output_type": "stream",
          "name": "stdout",
          "text": [
            "請輸入你的體溫33.9\n",
            "體溫異常，請重新測量!\n"
          ]
        }
      ],
      "source": [
        "temp=float(input(\"請輸入你的體溫\"))\n",
        "if temp >=37.5 :\n",
        " print(\"體溫過高!\")\n",
        "elif temp<=37.4 and temp >=37 :\n",
        " print(\"體溫略高!\")\n",
        "elif temp<=36.9 and temp >=34 :\n",
        " print(\"體溫正常\")\n",
        "else:\n",
        " print(\"體溫異常，請重新測量!\")"
      ]
    },
    {
      "cell_type": "code",
      "source": [
        "S=input(\"請輸入成績\")\n",
        "if int(S)>=90 :\n",
        "  print(\"A!\")\n",
        "elif int(S)<=89 and int(S) >=80 :\n",
        "  print(\"B\")\n",
        "elif int(S)<=79 and int(S) >=70 :\n",
        "  print(\"C\")\n",
        "elif int(S)<=69 and int(S) >=60 :\n",
        "  print(\"D\")\n",
        "else :\n",
        "  print(\"E\")"
      ],
      "metadata": {
        "colab": {
          "base_uri": "https://localhost:8080/"
        },
        "id": "js3zlcMkD__3",
        "outputId": "0ffe4b72-f463-4916-d08f-0c7e039e3fad"
      },
      "execution_count": 5,
      "outputs": [
        {
          "output_type": "stream",
          "name": "stdout",
          "text": [
            "請輸入成績67\n",
            "D\n"
          ]
        }
      ]
    },
    {
      "cell_type": "code",
      "source": [
        "M=int(input(\"請輸入購物金額:\"))\n",
        "if M>=10000:\n",
        "  if M>=100000 :\n",
        "    print(\"八折\",M*0.9,end=\"元\\n\")\n",
        "  elif M>=50000 :\n",
        "    print(\"八五折\",M*0.85,end=\"元\\n\")\n",
        "  elif M>=30000 :\n",
        "    print(\"九折\",M*0.9,end=\"元\\n\")\n",
        "  else:\n",
        "    print(\"九五折\",M*0.95,end=\"元\\n\")\n",
        "else :\n",
        "  print(\"沒打折\",M,end=\"元\\n\")\n"
      ],
      "metadata": {
        "colab": {
          "base_uri": "https://localhost:8080/"
        },
        "id": "VvH0TX3JEiTY",
        "outputId": "dc30991e-6e12-4dec-cb49-fec1776e5af6"
      },
      "execution_count": 10,
      "outputs": [
        {
          "output_type": "stream",
          "name": "stdout",
          "text": [
            "請輸入購物金額:50000\n",
            "八五折 42500.0元\n"
          ]
        }
      ]
    },
    {
      "cell_type": "code",
      "source": [
        "SE=int(input(\"請輸入月份:\"))\n",
        "if SE>=1 and SE<=12:\n",
        "  if SE>=3 and SE<=5:\n",
        "    print(SE,\"月是春天!\")\n",
        "  elif SE>=6 and SE<=8:\n",
        "    print(SE,\"月是夏天!\")\n",
        "  elif SE>=9 and SE<=11:\n",
        "    print(SE,\"月是秋天!\")\n",
        "  else:\n",
        "    print(SE,\"月是冬天!\")\n",
        "else:\n",
        "  print(\"月份不在範圍內\")"
      ],
      "metadata": {
        "colab": {
          "base_uri": "https://localhost:8080/"
        },
        "id": "nihDGG1OI97j",
        "outputId": "6f0a9470-04bc-4f7e-b76c-89abab45ed2a"
      },
      "execution_count": 11,
      "outputs": [
        {
          "output_type": "stream",
          "name": "stdout",
          "text": [
            "請輸入月份:7\n",
            "7 月是夏天!\n"
          ]
        }
      ]
    },
    {
      "cell_type": "code",
      "source": [
        "C=int(input(\"請輸入今年收入淨額:\"))\n",
        "if C>=300000:\n",
        "  if C>=2000000 :\n",
        "    print(\"付稅金額:\",C*0.3,\"元\")\n",
        "  elif C>=1000000 :\n",
        "    print(\"付稅金額:\",C*0.21,\"元\")\n",
        "  elif C>=600000 :\n",
        "    print(\"付稅金額:\",C*0.13,\"元\")\n",
        "  else:\n",
        "    print(\"付稅金額:\",C*0.06,\"元\")\n",
        "else :\n",
        "  print(\"付稅金額:0元\")"
      ],
      "metadata": {
        "colab": {
          "base_uri": "https://localhost:8080/"
        },
        "id": "Zaz7V0GRJEMa",
        "outputId": "139d42ca-5fd1-429b-dc9d-fb8d079665a7"
      },
      "execution_count": 12,
      "outputs": [
        {
          "output_type": "stream",
          "name": "stdout",
          "text": [
            "請輸入今年收入淨額:600000\n",
            "付稅金額: 78000.0 元\n"
          ]
        }
      ]
    }
  ]
}